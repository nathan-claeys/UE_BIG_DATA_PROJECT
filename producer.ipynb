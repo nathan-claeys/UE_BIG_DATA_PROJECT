{
 "cells": [
  {
   "cell_type": "code",
   "execution_count": null,
   "metadata": {},
   "outputs": [],
   "source": [
    "%load_ext autoreload\n",
    "%autoreload 2"
   ]
  },
  {
   "cell_type": "code",
   "execution_count": null,
   "metadata": {},
   "outputs": [],
   "source": [
    "from enum import Enum\n",
    "\n",
    "class Coordinates(Enum):\n",
    "    IMT_ATLANTIQUE = (-1.520754797081473, 47.282105501965894)\n",
    "    BARBEROUSSE = (-1.549059715620681, 47.22012437662507)\n",
    "    LIEU_UNIQUE = (-1.5457071065943468, 47.215411064118925)\n",
    "    GARE_NORD = (-1.5426151994562125, 47.21746560512398)\n",
    "    \n",
    "selected_coordinates = Coordinates.LIEU_UNIQUE"
   ]
  },
  {
   "cell_type": "code",
   "execution_count": null,
   "metadata": {},
   "outputs": [],
   "source": [
    "from main import main\n",
    "\n",
    "main(selected_coordinates.value)"
   ]
  }
 ],
 "metadata": {
  "kernelspec": {
   "display_name": "Python 3 (ipykernel)",
   "language": "python",
   "name": "python3"
  }
 },
 "nbformat": 4,
 "nbformat_minor": 2
}
