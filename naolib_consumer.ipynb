{
 "cells": [
  {
   "cell_type": "code",
   "execution_count": 1,
   "metadata": {},
   "outputs": [],
   "source": [
    "# Kafka configuration\n",
    "kafka_config = {\n",
    "    \"bootstrap_servers\": \"kafka1:9092\",  # Update with your Kafka broker\n",
    "}"
   ]
  },
  {
   "cell_type": "code",
   "execution_count": 2,
   "metadata": {},
   "outputs": [],
   "source": [
    "C6_BUS_STOPS = [\"HERM\", \"PLCL\", \"APRE\", \"TILL\", \"DERV\", \"LNAI\", \"PEON\", \"SLAU\", \"VARI\", \"PCRE\", \"PRCE\", \"DOME\", \"CMUS\", \"MDSI\", \"HARO\", \"DLME\", \"SNIC\", \"CRQU\", \"HVNA\", \"STPI\", \"FOCH\", \"BOND\", \"COCH\", \"BTEC\", \"LALL\", \"CLTT\", \"COUD\", \"BEMZ\", \"GDRE\", \"ERDI\", \"KERE\", \"PCVO\", \"KOUF\", \"RAZA\", \"BATI\", \"BJOI\", \"RSRA\", \"LNTT\", \"PTQQ\", \"EMBE\", \"SJPO\", \"CCAN\", \"MDPO\", \"CTRE\"]\n",
    "C6_BUS_STOPS_SENS2 = C6_BUS_STOPS[::-1]\n"
   ]
  },
  {
   "cell_type": "code",
   "execution_count": null,
   "metadata": {},
   "outputs": [
    {
     "name": "stdout",
     "output_type": "stream",
     "text": [
      ":: loading settings :: url = jar:file:/opt/conda/lib/python3.12/site-packages/pyspark/jars/ivy-2.5.1.jar!/org/apache/ivy/core/settings/ivysettings.xml\n"
     ]
    },
    {
     "name": "stderr",
     "output_type": "stream",
     "text": [
      "Ivy Default Cache set to: /home/jovyan/.ivy2/cache\n",
      "The jars for the packages stored in: /home/jovyan/.ivy2/jars\n",
      "org.apache.hadoop#hadoop-aws added as a dependency\n",
      "org.apache.spark#spark-sql-kafka-0-10_2.12 added as a dependency\n",
      ":: resolving dependencies :: org.apache.spark#spark-submit-parent-b12a6a59-7233-4674-b13c-8a8e063dee3e;1.0\n",
      "\tconfs: [default]\n",
      "\tfound org.apache.hadoop#hadoop-aws;3.3.4 in central\n",
      "\tfound com.amazonaws#aws-java-sdk-bundle;1.12.262 in central\n",
      "\tfound org.wildfly.openssl#wildfly-openssl;1.0.7.Final in central\n",
      "\tfound org.apache.spark#spark-sql-kafka-0-10_2.12;3.5.3 in central\n",
      "\tfound org.apache.spark#spark-token-provider-kafka-0-10_2.12;3.5.3 in central\n",
      "\tfound org.apache.kafka#kafka-clients;3.4.1 in central\n",
      "\tfound org.lz4#lz4-java;1.8.0 in central\n",
      "\tfound org.xerial.snappy#snappy-java;1.1.10.5 in central\n",
      "\tfound org.slf4j#slf4j-api;2.0.7 in central\n",
      "\tfound org.apache.hadoop#hadoop-client-runtime;3.3.4 in central\n",
      "\tfound org.apache.hadoop#hadoop-client-api;3.3.4 in central\n",
      "\tfound commons-logging#commons-logging;1.1.3 in central\n",
      "\tfound com.google.code.findbugs#jsr305;3.0.0 in central\n",
      "\tfound org.apache.commons#commons-pool2;2.11.1 in central\n",
      ":: resolution report :: resolve 5249ms :: artifacts dl 129ms\n",
      "\t:: modules in use:\n",
      "\tcom.amazonaws#aws-java-sdk-bundle;1.12.262 from central in [default]\n",
      "\tcom.google.code.findbugs#jsr305;3.0.0 from central in [default]\n",
      "\tcommons-logging#commons-logging;1.1.3 from central in [default]\n",
      "\torg.apache.commons#commons-pool2;2.11.1 from central in [default]\n",
      "\torg.apache.hadoop#hadoop-aws;3.3.4 from central in [default]\n",
      "\torg.apache.hadoop#hadoop-client-api;3.3.4 from central in [default]\n",
      "\torg.apache.hadoop#hadoop-client-runtime;3.3.4 from central in [default]\n",
      "\torg.apache.kafka#kafka-clients;3.4.1 from central in [default]\n",
      "\torg.apache.spark#spark-sql-kafka-0-10_2.12;3.5.3 from central in [default]\n",
      "\torg.apache.spark#spark-token-provider-kafka-0-10_2.12;3.5.3 from central in [default]\n",
      "\torg.lz4#lz4-java;1.8.0 from central in [default]\n",
      "\torg.slf4j#slf4j-api;2.0.7 from central in [default]\n",
      "\torg.wildfly.openssl#wildfly-openssl;1.0.7.Final from central in [default]\n",
      "\torg.xerial.snappy#snappy-java;1.1.10.5 from central in [default]\n",
      "\t---------------------------------------------------------------------\n",
      "\t|                  |            modules            ||   artifacts   |\n",
      "\t|       conf       | number| search|dwnlded|evicted|| number|dwnlded|\n",
      "\t---------------------------------------------------------------------\n",
      "\t|      default     |   14  |   0   |   0   |   0   ||   14  |   0   |\n",
      "\t---------------------------------------------------------------------\n",
      ":: retrieving :: org.apache.spark#spark-submit-parent-b12a6a59-7233-4674-b13c-8a8e063dee3e\n",
      "\tconfs: [default]\n",
      "\t0 artifacts copied, 14 already retrieved (0kB/40ms)\n",
      "25/03/18 14:49:08 WARN NativeCodeLoader: Unable to load native-hadoop library for your platform... using builtin-java classes where applicable\n",
      "Setting default log level to \"WARN\".\n",
      "To adjust logging level use sc.setLogLevel(newLevel). For SparkR, use setLogLevel(newLevel).\n",
      "/opt/conda/lib/python3.12/site-packages/pyspark/sql/context.py:113: FutureWarning: Deprecated in 3.0.0. Use SparkSession.builder.getOrCreate() instead.\n",
      "  warnings.warn(\n",
      "25/03/18 14:50:24 WARN ResolveWriteToStream: Temporary checkpoint location created which is deleted normally when the query didn't fail: /tmp/temporary-c4d0de6e-9365-497b-8cc8-833e805fac70. If it's required to delete it under any circumstances, please set spark.sql.streaming.forceDeleteTempCheckpointLocation to true. Important to know deleting temp checkpoint folder is best effort.\n",
      "25/03/18 14:50:24 WARN ResolveWriteToStream: spark.sql.adaptive.enabled is not supported in streaming DataFrames/Datasets and will be disabled.\n",
      "25/03/18 14:50:36 WARN AdminClientConfig: These configurations '[key.deserializer, value.deserializer, enable.auto.commit, max.poll.records, auto.offset.reset]' were supplied but are not used yet.\n",
      "                                                                                \r"
     ]
    },
    {
     "name": "stdout",
     "output_type": "stream",
     "text": [
      "-------------------------------------------\n",
      "Batch: 0\n",
      "-------------------------------------------\n",
      "+----+------------+----------+---------+\n",
      "|sens|window_start|window_end|positions|\n",
      "+----+------------+----------+---------+\n",
      "+----+------------+----------+---------+\n",
      "\n"
     ]
    },
    {
     "name": "stderr",
     "output_type": "stream",
     "text": [
      "                                                                                \r"
     ]
    },
    {
     "name": "stdout",
     "output_type": "stream",
     "text": [
      "-------------------------------------------\n",
      "Batch: 1\n",
      "-------------------------------------------\n",
      "+----+-------------------+-------------------+----------------------------------+\n",
      "|sens|window_start       |window_end         |positions                         |\n",
      "+----+-------------------+-------------------+----------------------------------+\n",
      "|1   |2025-03-18 14:51:00|2025-03-18 14:52:00|[]                                |\n",
      "|2   |2025-03-18 14:51:00|2025-03-18 14:52:00|[{CLTT, BUS ICI}, {APRE, BUS ICI}]|\n",
      "+----+-------------------+-------------------+----------------------------------+\n",
      "\n"
     ]
    },
    {
     "name": "stderr",
     "output_type": "stream",
     "text": [
      "                                                                                \r"
     ]
    },
    {
     "name": "stdout",
     "output_type": "stream",
     "text": [
      "-------------------------------------------\n",
      "Batch: 2\n",
      "-------------------------------------------\n",
      "+----+-------------------+-------------------+----------------------------------+\n",
      "|sens|window_start       |window_end         |positions                         |\n",
      "+----+-------------------+-------------------+----------------------------------+\n",
      "|1   |2025-03-18 14:51:00|2025-03-18 14:52:00|[]                                |\n",
      "|2   |2025-03-18 14:51:00|2025-03-18 14:52:00|[{CLTT, BUS ICI}, {APRE, BUS ICI}]|\n",
      "+----+-------------------+-------------------+----------------------------------+\n",
      "\n"
     ]
    },
    {
     "name": "stderr",
     "output_type": "stream",
     "text": [
      "                                                                                \r"
     ]
    },
    {
     "name": "stdout",
     "output_type": "stream",
     "text": [
      "-------------------------------------------\n",
      "Batch: 3\n",
      "-------------------------------------------\n",
      "+----+-------------------+-------------------+----------------------------------+\n",
      "|sens|window_start       |window_end         |positions                         |\n",
      "+----+-------------------+-------------------+----------------------------------+\n",
      "|1   |2025-03-18 14:51:00|2025-03-18 14:52:00|[]                                |\n",
      "|2   |2025-03-18 14:51:00|2025-03-18 14:52:00|[{CLTT, BUS ICI}, {APRE, BUS ICI}]|\n",
      "+----+-------------------+-------------------+----------------------------------+\n",
      "\n"
     ]
    },
    {
     "name": "stderr",
     "output_type": "stream",
     "text": [
      "                                                                                \r"
     ]
    },
    {
     "name": "stdout",
     "output_type": "stream",
     "text": [
      "-------------------------------------------\n",
      "Batch: 4\n",
      "-------------------------------------------\n",
      "+----+-------------------+-------------------+----------------------------------+\n",
      "|sens|window_start       |window_end         |positions                         |\n",
      "+----+-------------------+-------------------+----------------------------------+\n",
      "|1   |2025-03-18 14:51:00|2025-03-18 14:52:00|[{Entre BEMZ et GDRE, BUS ENTRE}] |\n",
      "|2   |2025-03-18 14:51:00|2025-03-18 14:52:00|[{CLTT, BUS ICI}, {APRE, BUS ICI}]|\n",
      "+----+-------------------+-------------------+----------------------------------+\n",
      "\n"
     ]
    },
    {
     "name": "stderr",
     "output_type": "stream",
     "text": [
      "                                                                                \r"
     ]
    },
    {
     "name": "stdout",
     "output_type": "stream",
     "text": [
      "-------------------------------------------\n",
      "Batch: 5\n",
      "-------------------------------------------\n",
      "+----+-------------------+-------------------+----------------------------------+\n",
      "|sens|window_start       |window_end         |positions                         |\n",
      "+----+-------------------+-------------------+----------------------------------+\n",
      "|1   |2025-03-18 14:51:00|2025-03-18 14:52:00|[{Entre BEMZ et GDRE, BUS ENTRE}] |\n",
      "|2   |2025-03-18 14:51:00|2025-03-18 14:52:00|[{CLTT, BUS ICI}, {APRE, BUS ICI}]|\n",
      "+----+-------------------+-------------------+----------------------------------+\n",
      "\n"
     ]
    },
    {
     "name": "stderr",
     "output_type": "stream",
     "text": [
      "                                                                                \r"
     ]
    },
    {
     "name": "stdout",
     "output_type": "stream",
     "text": [
      "-------------------------------------------\n",
      "Batch: 6\n",
      "-------------------------------------------\n",
      "+----+-------------------+-------------------+--------------------------------------------------+\n",
      "|sens|window_start       |window_end         |positions                                         |\n",
      "+----+-------------------+-------------------+--------------------------------------------------+\n",
      "|1   |2025-03-18 14:51:00|2025-03-18 14:52:00|[{HERM, BUS ICI}, {Entre BEMZ et GDRE, BUS ENTRE}]|\n",
      "|2   |2025-03-18 14:51:00|2025-03-18 14:52:00|[{CLTT, BUS ICI}, {APRE, BUS ICI}]                |\n",
      "+----+-------------------+-------------------+--------------------------------------------------+\n",
      "\n"
     ]
    },
    {
     "name": "stderr",
     "output_type": "stream",
     "text": [
      "                                                                                \r"
     ]
    },
    {
     "name": "stdout",
     "output_type": "stream",
     "text": [
      "-------------------------------------------\n",
      "Batch: 7\n",
      "-------------------------------------------\n",
      "+----+-------------------+-------------------+-----------------------------------------------------------------------------------+\n",
      "|sens|window_start       |window_end         |positions                                                                          |\n",
      "+----+-------------------+-------------------+-----------------------------------------------------------------------------------+\n",
      "|1   |2025-03-18 14:51:00|2025-03-18 14:52:00|[{HERM, BUS ICI}, {Entre CRQU et HVNA, BUS ENTRE}, {Entre BEMZ et GDRE, BUS ENTRE}]|\n",
      "|2   |2025-03-18 14:51:00|2025-03-18 14:52:00|[{CLTT, BUS ICI}, {APRE, BUS ICI}]                                                 |\n",
      "+----+-------------------+-------------------+-----------------------------------------------------------------------------------+\n",
      "\n"
     ]
    },
    {
     "name": "stderr",
     "output_type": "stream",
     "text": [
      "                                                                                \r"
     ]
    },
    {
     "name": "stdout",
     "output_type": "stream",
     "text": [
      "-------------------------------------------\n",
      "Batch: 8\n",
      "-------------------------------------------\n",
      "+----+-------------------+-------------------+-------------------------------------------------------------------------------------------------------------------------------------+\n",
      "|sens|window_start       |window_end         |positions                                                                                                                            |\n",
      "+----+-------------------+-------------------+-------------------------------------------------------------------------------------------------------------------------------------+\n",
      "|1   |2025-03-18 14:51:00|2025-03-18 14:52:00|[{HERM, BUS ICI}, {LNAI, BUS ICI}, {Entre PRCE et DOME, BUS ENTRE}, {Entre CRQU et HVNA, BUS ENTRE}, {Entre BEMZ et GDRE, BUS ENTRE}]|\n",
      "|2   |2025-03-18 14:51:00|2025-03-18 14:52:00|[{PCVO, BUS ICI}, {CLTT, BUS ICI}, {LALL, BUS ICI}, {APRE, BUS ICI}, {Entre PLCL et HERM, BUS ENTRE}]                                |\n",
      "+----+-------------------+-------------------+-------------------------------------------------------------------------------------------------------------------------------------+\n",
      "\n"
     ]
    },
    {
     "name": "stderr",
     "output_type": "stream",
     "text": [
      "                                                                                \r"
     ]
    },
    {
     "name": "stdout",
     "output_type": "stream",
     "text": [
      "-------------------------------------------\n",
      "Batch: 9\n",
      "-------------------------------------------\n",
      "+----+-------------------+-------------------+-------------------------------------------------------------------------------------------------------------------------------------------------------------------------------------------------------+\n",
      "|sens|window_start       |window_end         |positions                                                                                                                                                                                              |\n",
      "+----+-------------------+-------------------+-------------------------------------------------------------------------------------------------------------------------------------------------------------------------------------------------------+\n",
      "|1   |2025-03-18 14:51:00|2025-03-18 14:52:00|[{HERM, BUS ICI}, {LNAI, BUS ICI}, {Entre PRCE et DOME, BUS ENTRE}, {Entre SNIC et CRQU, BUS ENTRE}, {Entre CRQU et HVNA, BUS ENTRE}, {Entre BEMZ et GDRE, BUS ENTRE}, {Entre BJOI et RSRA, BUS ENTRE}]|\n",
      "|2   |2025-03-18 14:51:00|2025-03-18 14:52:00|[{SJPO, BUS ICI}, {Entre RSRA et BJOI, BUS ENTRE}, {PCVO, BUS ICI}, {CLTT, BUS ICI}, {LALL, BUS ICI}, {Entre SNIC et DLME, BUS ENTRE}, {APRE, BUS ICI}, {Entre PLCL et HERM, BUS ENTRE}]               |\n",
      "+----+-------------------+-------------------+-------------------------------------------------------------------------------------------------------------------------------------------------------------------------------------------------------+\n",
      "\n"
     ]
    },
    {
     "name": "stderr",
     "output_type": "stream",
     "text": [
      "                                                                                \r"
     ]
    },
    {
     "name": "stdout",
     "output_type": "stream",
     "text": [
      "-------------------------------------------\n",
      "Batch: 10\n",
      "-------------------------------------------\n",
      "+----+-------------------+-------------------+-------------------------------------------------------------------------------------------------------------------------------------------------------------------------------------------------------------------------------------------------------------------------+\n",
      "|sens|window_start       |window_end         |positions                                                                                                                                                                                                                                                                |\n",
      "+----+-------------------+-------------------+-------------------------------------------------------------------------------------------------------------------------------------------------------------------------------------------------------------------------------------------------------------------------+\n",
      "|1   |2025-03-18 14:51:00|2025-03-18 14:52:00|[{HERM, BUS ICI}, {Entre APRE et TILL, BUS ENTRE}, {Entre TILL et DERV, BUS ENTRE}, {LNAI, BUS ICI}, {Entre PRCE et DOME, BUS ENTRE}, {Entre SNIC et CRQU, BUS ENTRE}, {Entre CRQU et HVNA, BUS ENTRE}, {Entre BEMZ et GDRE, BUS ENTRE}, {Entre BJOI et RSRA, BUS ENTRE}]|\n",
      "|2   |2025-03-18 14:51:00|2025-03-18 14:52:00|[{SJPO, BUS ICI}, {Entre RSRA et BJOI, BUS ENTRE}, {PCVO, BUS ICI}, {CLTT, BUS ICI}, {LALL, BUS ICI}, {Entre SNIC et DLME, BUS ENTRE}, {VARI, BUS ICI}, {APRE, BUS ICI}, {Entre PLCL et HERM, BUS ENTRE}]                                                                |\n",
      "+----+-------------------+-------------------+-------------------------------------------------------------------------------------------------------------------------------------------------------------------------------------------------------------------------------------------------------------------------+\n",
      "\n"
     ]
    },
    {
     "name": "stderr",
     "output_type": "stream",
     "text": [
      "                                                                                \r"
     ]
    },
    {
     "name": "stdout",
     "output_type": "stream",
     "text": [
      "-------------------------------------------\n",
      "Batch: 11\n",
      "-------------------------------------------\n",
      "+----+-------------------+-------------------+-------------------------------------------------------------------------------------------------------------------------------------------------------------------------------------------------------------------------------------------------------------------------+\n",
      "|sens|window_start       |window_end         |positions                                                                                                                                                                                                                                                                |\n",
      "+----+-------------------+-------------------+-------------------------------------------------------------------------------------------------------------------------------------------------------------------------------------------------------------------------------------------------------------------------+\n",
      "|2   |2025-03-18 14:54:00|2025-03-18 14:55:00|[]                                                                                                                                                                                                                                                                       |\n",
      "|1   |2025-03-18 14:51:00|2025-03-18 14:52:00|[{HERM, BUS ICI}, {Entre APRE et TILL, BUS ENTRE}, {Entre TILL et DERV, BUS ENTRE}, {LNAI, BUS ICI}, {Entre PRCE et DOME, BUS ENTRE}, {Entre SNIC et CRQU, BUS ENTRE}, {Entre CRQU et HVNA, BUS ENTRE}, {Entre BEMZ et GDRE, BUS ENTRE}, {Entre BJOI et RSRA, BUS ENTRE}]|\n",
      "|2   |2025-03-18 14:51:00|2025-03-18 14:52:00|[{SJPO, BUS ICI}, {Entre RSRA et BJOI, BUS ENTRE}, {PCVO, BUS ICI}, {CLTT, BUS ICI}, {LALL, BUS ICI}, {Entre SNIC et DLME, BUS ENTRE}, {VARI, BUS ICI}, {APRE, BUS ICI}, {Entre PLCL et HERM, BUS ENTRE}]                                                                |\n",
      "|1   |2025-03-18 14:54:00|2025-03-18 14:55:00|[{APRE, BUS ICI}]                                                                                                                                                                                                                                                        |\n",
      "+----+-------------------+-------------------+-------------------------------------------------------------------------------------------------------------------------------------------------------------------------------------------------------------------------------------------------------------------------+\n",
      "\n"
     ]
    },
    {
     "name": "stderr",
     "output_type": "stream",
     "text": [
      "                                                                                \r"
     ]
    },
    {
     "name": "stdout",
     "output_type": "stream",
     "text": [
      "-------------------------------------------\n",
      "Batch: 12\n",
      "-------------------------------------------\n",
      "+----+-------------------+-------------------+-------------------------------------------------------------------------------------------------------------------------------------------------------------------------------------------------------------------------------------------------------------------------+\n",
      "|sens|window_start       |window_end         |positions                                                                                                                                                                                                                                                                |\n",
      "+----+-------------------+-------------------+-------------------------------------------------------------------------------------------------------------------------------------------------------------------------------------------------------------------------------------------------------------------------+\n",
      "|2   |2025-03-18 14:54:00|2025-03-18 14:55:00|[{EMBE, BUS ICI}, {BATI, BUS ICI}, {Entre KERE et ERDI, BUS ENTRE}, {BTEC, BUS ICI}, {COCH, BUS ICI}, {Entre DLME et HARO, BUS ENTRE}, {Entre APRE et PLCL, BUS ENTRE}]                                                                                                  |\n",
      "|1   |2025-03-18 14:51:00|2025-03-18 14:52:00|[{HERM, BUS ICI}, {Entre APRE et TILL, BUS ENTRE}, {Entre TILL et DERV, BUS ENTRE}, {LNAI, BUS ICI}, {Entre PRCE et DOME, BUS ENTRE}, {Entre SNIC et CRQU, BUS ENTRE}, {Entre CRQU et HVNA, BUS ENTRE}, {Entre BEMZ et GDRE, BUS ENTRE}, {Entre BJOI et RSRA, BUS ENTRE}]|\n",
      "|2   |2025-03-18 14:51:00|2025-03-18 14:52:00|[{SJPO, BUS ICI}, {Entre RSRA et BJOI, BUS ENTRE}, {PCVO, BUS ICI}, {CLTT, BUS ICI}, {LALL, BUS ICI}, {Entre SNIC et DLME, BUS ENTRE}, {VARI, BUS ICI}, {APRE, BUS ICI}, {Entre PLCL et HERM, BUS ENTRE}]                                                                |\n",
      "|1   |2025-03-18 14:54:00|2025-03-18 14:55:00|[{APRE, BUS ICI}, {PEON, BUS ICI}, {CMUS, BUS ICI}, {HVNA, BUS ICI}, {BOND, BUS ICI}, {BATI, BUS ICI}]                                                                                                                                                                   |\n",
      "+----+-------------------+-------------------+-------------------------------------------------------------------------------------------------------------------------------------------------------------------------------------------------------------------------------------------------------------------------+\n",
      "\n"
     ]
    },
    {
     "name": "stderr",
     "output_type": "stream",
     "text": [
      "                                                                                \r"
     ]
    },
    {
     "name": "stdout",
     "output_type": "stream",
     "text": [
      "-------------------------------------------\n",
      "Batch: 13\n",
      "-------------------------------------------\n",
      "+----+-------------------+-------------------+-------------------------------------------------------------------------------------------------------------------------------------------------------------------------------------------------------------------------------------------------------------------------+\n",
      "|sens|window_start       |window_end         |positions                                                                                                                                                                                                                                                                |\n",
      "+----+-------------------+-------------------+-------------------------------------------------------------------------------------------------------------------------------------------------------------------------------------------------------------------------------------------------------------------------+\n",
      "|2   |2025-03-18 14:54:00|2025-03-18 14:55:00|[{EMBE, BUS ICI}, {PTQQ, BUS ICI}, {BATI, BUS ICI}, {RAZA, BUS ICI}, {Entre KERE et ERDI, BUS ENTRE}, {BTEC, BUS ICI}, {COCH, BUS ICI}, {Entre DLME et HARO, BUS ENTRE}, {SLAU, BUS ICI}, {Entre APRE et PLCL, BUS ENTRE}]                                               |\n",
      "|1   |2025-03-18 14:51:00|2025-03-18 14:52:00|[{HERM, BUS ICI}, {Entre APRE et TILL, BUS ENTRE}, {Entre TILL et DERV, BUS ENTRE}, {LNAI, BUS ICI}, {Entre PRCE et DOME, BUS ENTRE}, {Entre SNIC et CRQU, BUS ENTRE}, {Entre CRQU et HVNA, BUS ENTRE}, {Entre BEMZ et GDRE, BUS ENTRE}, {Entre BJOI et RSRA, BUS ENTRE}]|\n",
      "|2   |2025-03-18 14:51:00|2025-03-18 14:52:00|[{SJPO, BUS ICI}, {Entre RSRA et BJOI, BUS ENTRE}, {PCVO, BUS ICI}, {CLTT, BUS ICI}, {LALL, BUS ICI}, {Entre SNIC et DLME, BUS ENTRE}, {VARI, BUS ICI}, {APRE, BUS ICI}, {Entre PLCL et HERM, BUS ENTRE}]                                                                |\n",
      "|1   |2025-03-18 14:54:00|2025-03-18 14:55:00|[{APRE, BUS ICI}, {TILL, BUS ICI}, {PEON, BUS ICI}, {CMUS, BUS ICI}, {HVNA, BUS ICI}, {BOND, BUS ICI}, {BATI, BUS ICI}]                                                                                                                                                  |\n",
      "+----+-------------------+-------------------+-------------------------------------------------------------------------------------------------------------------------------------------------------------------------------------------------------------------------------------------------------------------------+\n",
      "\n"
     ]
    },
    {
     "name": "stderr",
     "output_type": "stream",
     "text": [
      "ERROR:root:Exception while sending command.\n",
      "Traceback (most recent call last):\n",
      "  File \"/opt/conda/lib/python3.12/site-packages/py4j/clientserver.py\", line 511, in send_command\n",
      "    answer = smart_decode(self.stream.readline()[:-1])\n",
      "                          ^^^^^^^^^^^^^^^^^^^^^^\n",
      "RuntimeError: reentrant call inside <_io.BufferedReader name=59>\n",
      "\n",
      "During handling of the above exception, another exception occurred:\n",
      "\n",
      "Traceback (most recent call last):\n",
      "  File \"/opt/conda/lib/python3.12/site-packages/py4j/java_gateway.py\", line 1038, in send_command\n",
      "    response = connection.send_command(command)\n",
      "               ^^^^^^^^^^^^^^^^^^^^^^^^^^^^^^^^\n",
      "  File \"/opt/conda/lib/python3.12/site-packages/py4j/clientserver.py\", line 539, in send_command\n",
      "    raise Py4JNetworkError(\n",
      "py4j.protocol.Py4JNetworkError: Error while sending or receiving\n",
      "ERROR:root:Exception while sending command.\n",
      "Traceback (most recent call last):\n",
      "  File \"/opt/conda/lib/python3.12/site-packages/py4j/clientserver.py\", line 511, in send_command\n",
      "    answer = smart_decode(self.stream.readline()[:-1])\n",
      "                          ^^^^^^^^^^^^^^^^^^^^^^\n",
      "  File \"/opt/conda/lib/python3.12/socket.py\", line 720, in readinto\n",
      "    return self._sock.recv_into(b)\n",
      "           ^^^^^^^^^^^^^^^^^^^^^^^\n",
      "  File \"/opt/conda/lib/python3.12/site-packages/pyspark/context.py\", line 381, in signal_handler\n",
      "    self.cancelAllJobs()\n",
      "  File \"/opt/conda/lib/python3.12/site-packages/pyspark/context.py\", line 2446, in cancelAllJobs\n",
      "    self._jsc.sc().cancelAllJobs()\n",
      "    ^^^^^^^^^^^^^^\n",
      "  File \"/opt/conda/lib/python3.12/site-packages/py4j/java_gateway.py\", line 1322, in __call__\n",
      "    return_value = get_return_value(\n",
      "                   ^^^^^^^^^^^^^^^^^\n",
      "  File \"/opt/conda/lib/python3.12/site-packages/pyspark/errors/exceptions/captured.py\", line 179, in deco\n",
      "    return f(*a, **kw)\n",
      "           ^^^^^^^^^^^\n",
      "  File \"/opt/conda/lib/python3.12/site-packages/py4j/protocol.py\", line 334, in get_return_value\n",
      "    raise Py4JError(\n",
      "py4j.protocol.Py4JError: An error occurred while calling o21.sc\n",
      "\n",
      "During handling of the above exception, another exception occurred:\n",
      "\n",
      "Traceback (most recent call last):\n",
      "  File \"/opt/conda/lib/python3.12/site-packages/py4j/java_gateway.py\", line 1038, in send_command\n",
      "    response = connection.send_command(command)\n",
      "               ^^^^^^^^^^^^^^^^^^^^^^^^^^^^^^^^\n",
      "  File \"/opt/conda/lib/python3.12/site-packages/py4j/clientserver.py\", line 539, in send_command\n",
      "    raise Py4JNetworkError(\n",
      "py4j.protocol.Py4JNetworkError: Error while sending or receiving\n",
      "[Stage 29:============================>                            (5 + 1) / 10]\r"
     ]
    },
    {
     "name": "stderr",
     "output_type": "stream",
     "text": [
      "[Stage 29:==================================>                      (6 + 1) / 10]\n",
      "KeyboardInterrupt\n",
      "\n"
     ]
    }
   ],
   "source": [
    "from pyspark.sql import SparkSession\n",
    "from pyspark import SparkContext, SparkConf\n",
    "from pyspark.sql import SQLContext\n",
    "from pyspark.sql.functions import from_json, col, current_timestamp, lit, struct, array, udf, collect_list, asc, window, when, regexp_replace\n",
    "from pyspark.sql.types import StructType, StructField, StringType, IntegerType, BooleanType, ArrayType, TimestampType\n",
    "\n",
    "conf = SparkConf() \\\n",
    "    .setAppName('SparkApp') \\\n",
    "    .setMaster('spark://spark:7077') \\\n",
    "    .set(\"spark.jars.packages\", \"org.apache.hadoop:hadoop-aws:3.3.4,org.apache.spark:spark-sql-kafka-0-10_2.12:3.5.3\") \\\n",
    "    .set(\"spark.sql.shuffle.partitions\", \"10\")\n",
    " \n",
    "\n",
    "sc = SparkContext.getOrCreate(conf=conf)\n",
    "\n",
    "# Créer un SQLContext pour les opérations SQL\n",
    "sql_context = SQLContext(sc)\n",
    "\n",
    "schema = StructType([\n",
    "    StructField(\"sens\", IntegerType(), True),\n",
    "    StructField(\"terminus\", StringType(), True),\n",
    "    StructField(\"infotrafic\", BooleanType(), True),\n",
    "    StructField(\"temps\", StringType(), True),\n",
    "    StructField(\"tempsReel\", StringType(), True),\n",
    "    StructField(\"stop\", StringType(), True),\n",
    "    StructField(\"numLigne\", StringType(), True),\n",
    "    StructField(\"created_at\", StringType(), True)\n",
    "])\n",
    "\n",
    "# Read raw data from Kafka\n",
    "raw_stream = sql_context.readStream \\\n",
    "    .format(\"kafka\") \\\n",
    "    .option(\"kafka.bootstrap.servers\", kafka_config[\"bootstrap_servers\"]) \\\n",
    "    .option(\"subscribe\", \"bus_position\") \\\n",
    "    .option(\"startingOffsets\", \"latest\") \\\n",
    "    .load()\n",
    "\n",
    "parsed_stream = raw_stream \\\n",
    "    .select(from_json(col(\"value\").cast(\"string\"), schema).alias(\"data\")) \\\n",
    "    .select(\n",
    "        col(\"data.sens\").alias(\"sens\"),\n",
    "        col(\"data.terminus\").alias(\"terminus\"),\n",
    "        col(\"data.infotrafic\").alias(\"infotrafic\"),\n",
    "        col(\"data.temps\").alias(\"temps\"),\n",
    "        col(\"data.tempsReel\").alias(\"tempsReel\"),\n",
    "        col(\"data.stop\").alias(\"stop\"),\n",
    "        col(\"data.numLigne\").alias(\"numLigne\"),\n",
    "        col(\"data.created_at\").cast(TimestampType()).alias(\"created_at\")\n",
    "    ) \\\n",
    "    .filter( \\\n",
    "        col(\"tempsReel\") == \"true\" \\\n",
    "    ).withColumn(\n",
    "        \"minutes\",\n",
    "        when(col(\"temps\") == \"proche\", 0)  # Si \"proche\", retourne 0\n",
    "        .otherwise(\n",
    "            regexp_replace(col(\"temps\"), \"mn\", \"\").cast(\"int\")  # Sinon, enlève \"mn\" et cast en int\n",
    "    )\n",
    ")\n",
    "\n",
    "# Ajouter watermark et fenêtre temporelle de 1 minute\n",
    "windowed_stream = parsed_stream \\\n",
    "    .withWatermark(\"created_at\", \"1 minute\") \\\n",
    "    .groupBy(\n",
    "        window(\"created_at\", \"1 minute\"),\n",
    "        col(\"sens\")\n",
    "    ) \\\n",
    "    .agg(collect_list(struct(col(\"stop\"), col(\"minutes\"))).alias(\"stops\"))\n",
    "\n",
    "# Fonction UDF pour détecter la position des bus sur une ligne ordonnée\n",
    "def detect_bus_positions(stops, stops_list):\n",
    "    result = []\n",
    "    for idx, stop in enumerate(stops_list):\n",
    "        current = next((x for x in stops if x[\"stop\"] == stop), None)\n",
    "        prev = next((x for x in stops if x[\"stop\"] == stops_list[idx - 1]), None) if idx > 0 else None\n",
    "\n",
    "        if current and current[\"minutes\"] == 0:\n",
    "            result.append((stop, \"BUS ICI\"))\n",
    "        elif current and prev and current[\"minutes\"] > 0 and prev[\"minutes\"] > current[\"minutes\"]:\n",
    "            result.append((f\"Entre {stops_list[idx - 1]} et {stop}\", \"BUS ENTRE\"))\n",
    "    return result\n",
    "\n",
    "schema_result = ArrayType(StructType([\n",
    "    StructField(\"location\", StringType(), False),\n",
    "    StructField(\"status\", StringType(), False)\n",
    "]))\n",
    "\n",
    "detect_bus_positions_udf = udf(lambda stops, sens: detect_bus_positions(\n",
    "    stops,\n",
    "    C6_BUS_STOPS if sens == 1 else C6_BUS_STOPS_SENS2\n",
    "), schema_result)\n",
    "\n",
    "# Appliquer l'UDF sur l'agrégation\n",
    "bus_positions = windowed_stream.withColumn(\"positions\", detect_bus_positions_udf(col(\"stops\"), col(\"sens\")))\n",
    "\n",
    "# Afficher le résultat en streaming\n",
    "query = bus_positions.select(\n",
    "    col(\"sens\"),\n",
    "    col(\"window.start\").alias(\"window_start\"),\n",
    "    col(\"window.end\").alias(\"window_end\"),\n",
    "    col(\"positions\")\n",
    ") \\\n",
    ".writeStream \\\n",
    ".outputMode(\"complete\") \\\n",
    ".format(\"console\") \\\n",
    ".option(\"truncate\", \"false\") \\\n",
    ".start()\n",
    "\n",
    "query.awaitTermination()"
   ]
  }
 ],
 "metadata": {
  "kernelspec": {
   "display_name": "Python 3 (ipykernel)",
   "language": "python",
   "name": "python3"
  },
  "language_info": {
   "codemirror_mode": {
    "name": "ipython",
    "version": 3
   },
   "file_extension": ".py",
   "mimetype": "text/x-python",
   "name": "python",
   "nbconvert_exporter": "python",
   "pygments_lexer": "ipython3",
   "version": "3.12.9"
  }
 },
 "nbformat": 4,
 "nbformat_minor": 2
}
