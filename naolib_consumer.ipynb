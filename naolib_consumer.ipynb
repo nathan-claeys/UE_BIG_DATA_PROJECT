{
 "cells": [
  {
   "cell_type": "code",
   "execution_count": null,
   "metadata": {},
   "outputs": [],
   "source": [
    "# Kafka configuration\n",
    "kafka_config = {\n",
    "    \"bootstrap_servers\": \"kafka1:9092\",  # Update with your Kafka broker\n",
    "}"
   ]
  },
  {
   "cell_type": "code",
   "execution_count": null,
   "metadata": {},
   "outputs": [],
   "source": [
    "from pyspark.sql import SparkSession\n",
    "from pyspark import SparkContext, SparkConf\n",
    "from pyspark.sql import SQLContext\n",
    "from pyspark.sql.functions import from_json, col, window, avg\n",
    "from pyspark.sql.types import StructType, StructField, StringType, IntegerType, TimestampType, FloatType, BooleanType\n",
    "\n",
    "conf = SparkConf() \\\n",
    "    .setAppName('SparkApp') \\\n",
    "    .setMaster('spark://spark:7077') \\\n",
    "    .set(\"spark.jars.packages\", \"org.apache.hadoop:hadoop-aws:3.3.4,org.apache.spark:spark-sql-kafka-0-10_2.12:3.5.3\") \\\n",
    "    .set(\"spark.sql.shuffle.partitions\", \"10\")\n",
    " \n",
    "\n",
    "sc = SparkContext.getOrCreate(conf=conf)\n",
    "\n",
    "# Créer un SQLContext pour les opérations SQL\n",
    "sql_context = SQLContext(sc)\n",
    "\n",
    "schema = StructType([\n",
    "    StructField(\"sens\", IntegerType(), True),\n",
    "    StructField(\"terminus\", StringType(), True),\n",
    "    StructField(\"infotrafic\", BooleanType(), True),\n",
    "    StructField(\"temps\", StringType(), True),\n",
    "    StructField(\"tempsReel\", StringType(), True),\n",
    "    StructField(\"stop\", StringType(), True),\n",
    "    StructField(\"numLigne\", StringType(), True),\n",
    "])\n",
    "\n",
    "# Read raw data from Kafka\n",
    "raw_stream = sql_context.readStream \\\n",
    "    .format(\"kafka\") \\\n",
    "    .option(\"kafka.bootstrap.servers\", kafka_config[\"bootstrap_servers\"]) \\\n",
    "    .option(\"subscribe\", \"bus_position\") \\\n",
    "    .option(\"startingOffsets\", \"earliest\") \\\n",
    "    .load()\n",
    "\n",
    "parsed_stream = raw_stream \\\n",
    "    .select(from_json(col(\"value\").cast(\"string\"), schema).alias(\"data\")) \\\n",
    "    .select(\n",
    "        col(\"data.sens\").alias(\"sens\"),\n",
    "        col(\"data.terminus\").alias(\"terminus\"),\n",
    "        col(\"data.infotrafic\").alias(\"infotrafic\"),\n",
    "        col(\"data.temps\").alias(\"temps\"),\n",
    "        col(\"data.tempsReel\").alias(\"tempsReel\"),\n",
    "        col(\"data.stop\").alias(\"stop\"),\n",
    "        col(\"data.numLigne\").alias(\"numLigne\")\n",
    "    )\n",
    "\n",
    "query = parsed_stream.writeStream \\\n",
    "    .outputMode(\"append\") \\\n",
    "    .format(\"console\") \\\n",
    "    .option(\"truncate\", \"false\") \\\n",
    "    .start()\n",
    "\n",
    "query.awaitTermination()"
   ]
  }
 ],
 "metadata": {
  "language_info": {
   "name": "python"
  }
 },
 "nbformat": 4,
 "nbformat_minor": 2
}
